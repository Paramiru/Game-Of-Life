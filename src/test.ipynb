{
 "cells": [
  {
   "cell_type": "code",
   "execution_count": 1,
   "metadata": {},
   "outputs": [],
   "source": [
    "import numpy as np\n",
    "from numpy.random import SeedSequence\n",
    "import pandas as pd\n",
    "import matplotlib.pyplot as plt\n",
    "import seaborn as sns"
   ]
  },
  {
   "cell_type": "code",
   "execution_count": 2,
   "metadata": {},
   "outputs": [
    {
     "data": {
      "text/plain": [
       "<AxesSubplot:ylabel='Count'>"
      ]
     },
     "execution_count": 2,
     "metadata": {},
     "output_type": "execute_result"
    },
    {
     "data": {
      "image/png": "[encoded data removed]",
      "text/plain": [
       "<Figure size 720x576 with 1 Axes>"
      ]
     },
     "metadata": {},
     "output_type": "display_data"
    }
   ],
   "source": [
    "df = pd.read_csv('../GameOfLifeData.csv')\n",
    "sns.set_theme()\n",
    "fig = plt.figure(figsize=(10,8))\n",
    "sns.histplot(data=df)\n",
    "# Histogram plot showing bins with equilibration times"
   ]
  },
  {
   "cell_type": "code",
   "execution_count": null,
   "metadata": {},
   "outputs": [],
   "source": [
    "# Code to check how to use np.roll for GameOfLife and \n",
    "# check how much faster this is than using for loops"
   ]
  },
  {
   "cell_type": "code",
   "execution_count": 93,
   "metadata": {},
   "outputs": [],
   "source": [
    "def getLiveNN(arr, l: int, row: int, col: int) -> int:\n",
    "   return arr[row-1, col]         + arr[(row+1) % l, col]   + \\\n",
    "          arr[row, col-1]         + arr[row, (col+1) % l]   + \\\n",
    "          arr[row-1, col-1]       + arr[row-1, (col+1) % l] + \\\n",
    "          arr[(row+1) % l, col-1] + arr[(row+1) % l, (col+1) % l]\n",
    "\n",
    "def updateCells(array, l):\n",
    "        temporaryArray = np.copy(array)\n",
    "        for row in range(l):\n",
    "            for col in range(l):\n",
    "                cell = temporaryArray[row, col]\n",
    "                liveNN = getLiveNN(temporaryArray, l, row, col)\n",
    "                # if cell is alive (cell == 1)\n",
    "                if cell:\n",
    "                    if liveNN < 2 or liveNN > 3:\n",
    "                        # any live cell with less than 2 live nn dies\n",
    "                        # any live cell with more than 3 live nn dies\n",
    "                        array[row, col] = 0\n",
    "                # else, cell is dead, cell == 0\n",
    "                else:\n",
    "                    if liveNN == 3:\n",
    "                        # any dead cell with 3 live nn becomes alive\n",
    "                        array[row, col] = 1\n",
    "\n",
    "def updateCells_fast(array):\n",
    "    # nn for left - right - up -down\n",
    "    live_nn = np.roll(array, 1, axis=0) + np.roll(array, 1, axis=1) + \\\n",
    "        np.roll(array, -1, axis=0) + np.roll(array, -1, axis=1) + \\\n",
    "        np.roll(array, (1, 1), axis=(0, 1)) + np.roll(array, (-1, 1), axis=(0, 1)) + \\\n",
    "        np.roll(array, (1, -1), axis=(0, 1)) + np.roll(array, (-1, -1), axis=(0, 1))   \n",
    "\n",
    "    # bool mask to distinguish those cells that will die\n",
    "    mask = (live_nn > 3) | (live_nn < 2)\n",
    "    make_dead = mask * array\n",
    "    # cells with exactly 3 nn become alive\n",
    "    make_alive = ((live_nn == 3) * ~array.astype(bool)) * 1\n",
    "    # use bool masks to create the array containing the live/dead cells\n",
    "    new_arr = np.where(make_dead, 0, array)\n",
    "    new_arr = np.where(make_alive, 1, new_arr)\n",
    "    array = new_arr"
   ]
  },
  {
   "cell_type": "code",
   "execution_count": 94,
   "metadata": {},
   "outputs": [],
   "source": [
    "rng = np.random.default_rng(SeedSequence(14122000))\n",
    "l = 50\n",
    "array = rng.choice(2, size=(50, 50))"
   ]
  },
  {
   "cell_type": "code",
   "execution_count": 95,
   "metadata": {},
   "outputs": [
    {
     "name": "stdout",
     "output_type": "stream",
     "text": [
      "4.59 ms ± 197 µs per loop (mean ± std. dev. of 7 runs, 100 loops each)\n"
     ]
    }
   ],
   "source": [
    "%timeit updateCells(array, l) "
   ]
  },
  {
   "cell_type": "code",
   "execution_count": 96,
   "metadata": {},
   "outputs": [
    {
     "name": "stdout",
     "output_type": "stream",
     "text": [
      "161 µs ± 1.84 µs per loop (mean ± std. dev. of 7 runs, 10,000 loops each)\n"
     ]
    }
   ],
   "source": [
    "%timeit updateCells_fast(array)"
   ]
  }
 ],
 "metadata": {
  "interpreter": {
   "hash": "9907c6481efedc7dd659bbdadfbad63c6d7dcd44f3a3d333868673e300ec929e"
  },
  "kernelspec": {
   "display_name": "Python 3.9.0 ('MVP')",
   "language": "python",
   "name": "python3"
  },
  "language_info": {
   "codemirror_mode": {
    "name": "ipython",
    "version": 3
   },
   "file_extension": ".py",
   "mimetype": "text/x-python",
   "name": "python",
   "nbconvert_exporter": "python",
   "pygments_lexer": "ipython3",
   "version": "3.9.0"
  },
  "orig_nbformat": 4
 },
 "nbformat": 4,
 "nbformat_minor": 2
}
